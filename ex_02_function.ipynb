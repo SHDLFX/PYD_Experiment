#校核梁的强度问题
q = float(input('i:'))
l = float(input('e:'))
bendingmax_list=["q","l"]
ben=1/8*q*l*l       #简支梁跨中弯矩计算公式
print(ben)
b = float(input('r:'))
h = float(input('p:'))
rectangle_list = ["b","h"] 
rec=1/6*b*h*h       #弯面截面系数计算方法   
print(rec)
σ=ben/rec           #应力计算公式( σ )max=M/W(弯面截面系数)
print(σ)
σ_ = float(input('j:'))
print(σ_ )

if σ<σ_ :           #比较最大正应力与许用拉应力的相对大小
        print("σ")
else:print("强度不满足")
   




    

