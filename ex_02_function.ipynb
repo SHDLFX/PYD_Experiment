#例题：图示简支木梁 。已知l =4 m,b = 140 mm,h = 210 mm,q = 2 kN/m;弯曲许用拉应力为[]=6 .4 MPa。试校核梁的强度。

#校核梁的强度问题
q = float(input('i:'))  #输入均布荷载q和梁跨度l  
l = float(input('e:'))  #输入梁跨度l
bendingmax_list=["q","l"]
ben=1/8*q*l*l           #简支梁跨中弯矩计算公式 
print(ben)
b = float(input('r:'))  #输入矩形梁宽度b
h = float(input('p:'))  #输入矩形梁高度h
rectangle_list = ["b","h"] 
rec=1/6*b*h*h           #弯面截面系数计算方法   
print(rec)
σ=ben/rec               #应力计算公式( σ )max=M/W(弯面截面系数)
print(σ)
σ_ = float(input('j:')) #输入许用拉应力值
print(σ_ )

if σ<σ_ :               #比较最大正应力与许用拉应力的相对大小
        print("σ")
else:print("强度不满足")

#实际运算代码演示
i:2000
e:4
4000.0
r:0.14
p:0.21
0.001029
3887269.1933916425
j:3900000
3887269.1933916425


#具体运算过程
M=1/8*q*l*l=4
W=1/6*b*h*h=0.00103
σ=M/W=3.89<[σ]=6.4
#故强度满足
   




    

