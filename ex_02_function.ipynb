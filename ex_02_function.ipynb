#例题：图示简支木梁 。已知l =4 m,b = 140 mm,h = 210 mm,q = 2 kN/m;弯曲许用拉应力为[]=6 .4 MPa。试校核梁的强度。

#校核梁的强度问题
def bendingmax(q,l):       #输入均布荷载q和梁跨度l
     ben=1/8*q*l*l         #简支梁跨中弯矩计算公式
     return ben            
print("ben={}".format(bendingmax(2000,4)))      #输出跨中弯矩

def rectangle(b, h):       #输入矩形梁宽度b，输入矩形梁高度h
    rec=1/6*b*h*h          #弯面截面系数计算方法  
    return rec            
print("rec={}".format(bendingmax(0.14,0.21)))    #输出弯面截面系数

def yingli(ben,rec):       #输入梁跨中弯矩和弯面截面系数
    ying=ben/rec           #应力计算公式( σ )max=M/W(弯面截面系数)
    return ying
print("ying={}".format(yingli(4000,0.001029)))   #输出最大应力值
ying=3887269.1933916425
if ying<6400000:               #比较最大正应力与许用拉应力的相对大小
        print("yingying=3887269.1933916425,强度满足 ")
else:print("强度不满足")

#实际运算代码演示
ben=4000.0
rec=0.0007717500000000001
ying=3887269.1933916425
yingying=3887269.1933916425 



#具体运算过程
M=1/8*q*l*l=4
W=1/6*b*h*h=0.00103
σ=M/W=3.89<[σ]=6.4
#故强度满足
   




    

